{
 "cells": [
  {
   "cell_type": "markdown",
   "id": "b4393df3-a68c-4366-bb71-223f0c8fa61e",
   "metadata": {},
   "source": [
    "### Cleaning Residue Files"
   ]
  },
  {
   "cell_type": "code",
   "execution_count": 1,
   "id": "81ddf3e8-e62f-4172-8b9d-b59d4d1714f6",
   "metadata": {},
   "outputs": [
    {
     "name": "stdout",
     "output_type": "stream",
     "text": [
      "Deleted: /tasks/Avalanche Energy/Sim_1_v1/materials.xml\n",
      "Deleted: /tasks/Avalanche Energy/Sim_1_v1/geometry.xml\n",
      "Deleted: /tasks/Avalanche Energy/Sim_1_v1/tallies.xml\n",
      "Deleted: /tasks/Avalanche Energy/Sim_1_v1/settings.xml\n",
      "Deleted: /tasks/Avalanche Energy/Sim_1_v1/tracks.h5\n",
      "Deleted: /tasks/Avalanche Energy/Sim_1_v1/statepoint.100.h5\n",
      "Deleted: /tasks/Avalanche Energy/Sim_1_v1/summary.h5\n"
     ]
    }
   ],
   "source": [
    "import os\n",
    "import glob\n",
    "\n",
    "# Get the current working directory\n",
    "current_directory = os.getcwd()\n",
    "\n",
    "# File extensions to delete\n",
    "extensions_to_delete = ['xml', 'h5', 'out', 'ppm', 'csv']\n",
    "\n",
    "# Loop through each extension\n",
    "for ext in extensions_to_delete:\n",
    "    # Use glob to find all files with the current extension\n",
    "    files_to_delete = glob.glob(os.path.join(current_directory, f'*.{ext}'))\n",
    "\n",
    "    # Delete each matching file\n",
    "    for file in files_to_delete:\n",
    "        if os.path.exists(file):\n",
    "            os.remove(file)\n",
    "            print(f\"Deleted: {file}\")\n",
    "        else:\n",
    "            print(f\"File not found: {file}\") "
   ]
  },
  {
   "cell_type": "code",
   "execution_count": null,
   "id": "8360a58a-5430-4d78-8f2d-5ff5f3a06845",
   "metadata": {},
   "outputs": [],
   "source": []
  }
 ],
 "metadata": {
  "kernelspec": {
   "display_name": "Python 3 (ipykernel)",
   "language": "python",
   "name": "python3"
  },
  "language_info": {
   "codemirror_mode": {
    "name": "ipython",
    "version": 3
   },
   "file_extension": ".py",
   "mimetype": "text/x-python",
   "name": "python",
   "nbconvert_exporter": "python",
   "pygments_lexer": "ipython3",
   "version": "3.11.2"
  }
 },
 "nbformat": 4,
 "nbformat_minor": 5
}
